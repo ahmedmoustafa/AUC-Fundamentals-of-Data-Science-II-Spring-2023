{
  "nbformat": 4,
  "nbformat_minor": 0,
  "metadata": {
    "colab": {
      "provenance": [],
      "include_colab_link": true
    },
    "kernelspec": {
      "name": "python3",
      "display_name": "Python 3"
    },
    "language_info": {
      "name": "python"
    }
  },
  "cells": [
    {
      "cell_type": "markdown",
      "metadata": {
        "id": "view-in-github",
        "colab_type": "text"
      },
      "source": [
        "<a href=\"https://colab.research.google.com/github/lojanee/AUC-Fundamentals-of-Data-Science-II-Spring-2023/blob/main/bug-in-the-code.ipynb\" target=\"_parent\"><img src=\"https://colab.research.google.com/assets/colab-badge.svg\" alt=\"Open In Colab\"/></a>"
      ]
    },
    {
      "cell_type": "markdown",
      "source": [
        "# Bug in the Code"
      ],
      "metadata": {
        "id": "bnCBPHTZKmq9"
      }
    },
    {
      "cell_type": "code",
      "source": [
        "print ('Python is the world's most popular programming language!')"
      ],
      "metadata": {
        "id": "WYtzjfZbKp_W"
      },
      "execution_count": null,
      "outputs": []
    },
    {
      "cell_type": "code",
      "source": [
        "print(\"Python is the world's most popular programming language!\")\n"
      ],
      "metadata": {
        "id": "BReKPg0KKzTV",
        "outputId": "b3154205-b17f-4832-c38a-047d38f6808d",
        "colab": {
          "base_uri": "https://localhost:8080/"
        }
      },
      "execution_count": 1,
      "outputs": [
        {
          "output_type": "stream",
          "name": "stdout",
          "text": [
            "Python is the world's most popular programming language!\n"
          ]
        }
      ]
    }
  ]
}